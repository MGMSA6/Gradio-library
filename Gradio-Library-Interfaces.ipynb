{
 "cells": [
  {
   "cell_type": "code",
   "execution_count": 1,
   "id": "4af9fb96",
   "metadata": {},
   "outputs": [
    {
     "name": "stdout",
     "output_type": "stream",
     "text": [
      "Looking in indexes: https://pypi.org/simple, https://pypi.ngc.nvidia.com\n",
      "Collecting gradio\n",
      "  Downloading gradio-2.2.2-py3-none-any.whl (2.1 MB)\n",
      "\u001b[K     |████████████████████████████████| 2.1 MB 455 kB/s eta 0:00:01\n",
      "\u001b[?25hCollecting ffmpy\n",
      "  Downloading ffmpy-0.3.0.tar.gz (4.8 kB)\n",
      "Collecting markdown2\n",
      "  Downloading markdown2-2.4.0-py2.py3-none-any.whl (34 kB)\n",
      "Requirement already satisfied: matplotlib in /Users/apple/opt/anaconda3/lib/python3.8/site-packages (from gradio) (3.3.4)\n",
      "Requirement already satisfied: requests in /Users/apple/opt/anaconda3/lib/python3.8/site-packages (from gradio) (2.25.1)\n",
      "Collecting flask-cachebuster\n",
      "  Downloading Flask-CacheBuster-1.0.0.tar.gz (3.1 kB)\n",
      "Requirement already satisfied: numpy in /Users/apple/opt/anaconda3/lib/python3.8/site-packages (from gradio) (1.19.5)\n",
      "Requirement already satisfied: pillow in /Users/apple/opt/anaconda3/lib/python3.8/site-packages (from gradio) (8.2.0)\n",
      "Collecting Flask-Cors>=3.0.8\n",
      "  Downloading Flask_Cors-3.0.10-py2.py3-none-any.whl (14 kB)\n",
      "Requirement already satisfied: Flask>=1.1.1 in /Users/apple/opt/anaconda3/lib/python3.8/site-packages (from gradio) (1.1.2)\n",
      "Collecting pycryptodome\n",
      "  Downloading pycryptodome-3.10.1-cp35-abi3-macosx_10_9_x86_64.whl (1.5 MB)\n",
      "\u001b[K     |████████████████████████████████| 1.5 MB 2.9 MB/s eta 0:00:01     |██▊                             | 122 kB 2.9 MB/s eta 0:00:01\n",
      "\u001b[?25hCollecting paramiko\n",
      "  Downloading paramiko-2.7.2-py2.py3-none-any.whl (206 kB)\n",
      "\u001b[K     |████████████████████████████████| 206 kB 4.1 MB/s eta 0:00:01\n",
      "\u001b[?25hRequirement already satisfied: pandas in /Users/apple/opt/anaconda3/lib/python3.8/site-packages (from gradio) (1.2.4)\n",
      "Collecting Flask-Login\n",
      "  Downloading Flask_Login-0.5.0-py2.py3-none-any.whl (16 kB)\n",
      "Requirement already satisfied: scipy in /Users/apple/opt/anaconda3/lib/python3.8/site-packages (from gradio) (1.6.2)\n",
      "Collecting analytics-python\n",
      "  Downloading analytics_python-1.3.1-py2.py3-none-any.whl (16 kB)\n",
      "Requirement already satisfied: Jinja2>=2.10.1 in /Users/apple/opt/anaconda3/lib/python3.8/site-packages (from Flask>=1.1.1->gradio) (2.11.3)\n",
      "Requirement already satisfied: itsdangerous>=0.24 in /Users/apple/opt/anaconda3/lib/python3.8/site-packages (from Flask>=1.1.1->gradio) (1.1.0)\n",
      "Requirement already satisfied: click>=5.1 in /Users/apple/opt/anaconda3/lib/python3.8/site-packages (from Flask>=1.1.1->gradio) (7.1.2)\n",
      "Requirement already satisfied: Werkzeug>=0.15 in /Users/apple/opt/anaconda3/lib/python3.8/site-packages (from Flask>=1.1.1->gradio) (1.0.1)\n",
      "Requirement already satisfied: Six in /Users/apple/opt/anaconda3/lib/python3.8/site-packages (from Flask-Cors>=3.0.8->gradio) (1.15.0)\n",
      "Requirement already satisfied: MarkupSafe>=0.23 in /Users/apple/opt/anaconda3/lib/python3.8/site-packages (from Jinja2>=2.10.1->Flask>=1.1.1->gradio) (1.1.1)\n",
      "Collecting backoff==1.10.0\n",
      "  Downloading backoff-1.10.0-py2.py3-none-any.whl (31 kB)\n",
      "Requirement already satisfied: python-dateutil>2.1 in /Users/apple/opt/anaconda3/lib/python3.8/site-packages (from analytics-python->gradio) (2.8.1)\n",
      "Collecting monotonic>=1.5\n",
      "  Downloading monotonic-1.6-py2.py3-none-any.whl (8.2 kB)\n",
      "Requirement already satisfied: idna<3,>=2.5 in /Users/apple/opt/anaconda3/lib/python3.8/site-packages (from requests->gradio) (2.10)\n",
      "Requirement already satisfied: urllib3<1.27,>=1.21.1 in /Users/apple/opt/anaconda3/lib/python3.8/site-packages (from requests->gradio) (1.26.4)\n",
      "Requirement already satisfied: chardet<5,>=3.0.2 in /Users/apple/opt/anaconda3/lib/python3.8/site-packages (from requests->gradio) (4.0.0)\n",
      "Requirement already satisfied: certifi>=2017.4.17 in /Users/apple/opt/anaconda3/lib/python3.8/site-packages (from requests->gradio) (2020.12.5)\n",
      "Requirement already satisfied: cycler>=0.10 in /Users/apple/opt/anaconda3/lib/python3.8/site-packages (from matplotlib->gradio) (0.10.0)\n",
      "Requirement already satisfied: pyparsing!=2.0.4,!=2.1.2,!=2.1.6,>=2.0.3 in /Users/apple/opt/anaconda3/lib/python3.8/site-packages (from matplotlib->gradio) (2.4.7)\n",
      "Requirement already satisfied: kiwisolver>=1.0.1 in /Users/apple/opt/anaconda3/lib/python3.8/site-packages (from matplotlib->gradio) (1.3.1)\n",
      "Requirement already satisfied: pytz>=2017.3 in /Users/apple/opt/anaconda3/lib/python3.8/site-packages (from pandas->gradio) (2021.1)\n",
      "Collecting bcrypt>=3.1.3\n",
      "  Downloading bcrypt-3.2.0-cp36-abi3-macosx_10_9_x86_64.whl (31 kB)\n",
      "Collecting pynacl>=1.0.1\n",
      "  Downloading PyNaCl-1.4.0-cp35-abi3-macosx_10_10_x86_64.whl (380 kB)\n",
      "\u001b[K     |████████████████████████████████| 380 kB 3.9 MB/s eta 0:00:01\n",
      "\u001b[?25hRequirement already satisfied: cryptography>=2.5 in /Users/apple/opt/anaconda3/lib/python3.8/site-packages (from paramiko->gradio) (3.4.7)\n",
      "Requirement already satisfied: cffi>=1.1 in /Users/apple/opt/anaconda3/lib/python3.8/site-packages (from bcrypt>=3.1.3->paramiko->gradio) (1.14.5)\n",
      "Requirement already satisfied: pycparser in /Users/apple/opt/anaconda3/lib/python3.8/site-packages (from cffi>=1.1->bcrypt>=3.1.3->paramiko->gradio) (2.20)\n",
      "Building wheels for collected packages: ffmpy, flask-cachebuster\n",
      "  Building wheel for ffmpy (setup.py) ... \u001b[?25ldone\n",
      "\u001b[?25h  Created wheel for ffmpy: filename=ffmpy-0.3.0-py3-none-any.whl size=4709 sha256=79d05a771b30bba6f153659c77bccdbc7eb5c5b66ea0edbced08be46d09b09f9\n",
      "  Stored in directory: /private/var/folders/1j/732zcpk15b91f3sdm9g84q7r0000gn/T/pip-ephem-wheel-cache-achuvgs5/wheels/ff/5b/59/913b443e7369dc04b61f607a746b6f7d83fb65e2e19fcc958d\n",
      "  Building wheel for flask-cachebuster (setup.py) ... \u001b[?25ldone\n",
      "\u001b[?25h  Created wheel for flask-cachebuster: filename=Flask_CacheBuster-1.0.0-py3-none-any.whl size=3372 sha256=4e2dfc709db0f0d0c0e47d8dbdbb8ea12bfeb2851799ff593949702af40445de\n",
      "  Stored in directory: /private/var/folders/1j/732zcpk15b91f3sdm9g84q7r0000gn/T/pip-ephem-wheel-cache-achuvgs5/wheels/27/1b/de/34a3e06893944387266e2e7e93d33243589f01ac1b451e367b\n",
      "Successfully built ffmpy flask-cachebuster\n",
      "Installing collected packages: pynacl, monotonic, bcrypt, backoff, pycryptodome, paramiko, markdown2, Flask-Login, Flask-Cors, flask-cachebuster, ffmpy, analytics-python, gradio\n",
      "Successfully installed Flask-Cors-3.0.10 Flask-Login-0.5.0 analytics-python-1.3.1 backoff-1.10.0 bcrypt-3.2.0 ffmpy-0.3.0 flask-cachebuster-1.0.0 gradio-2.2.2 markdown2-2.4.0 monotonic-1.6 paramiko-2.7.2 pycryptodome-3.10.1 pynacl-1.4.0\n"
     ]
    }
   ],
   "source": [
    "# Install gradio library\n",
    "!pip install gradio"
   ]
  },
  {
   "cell_type": "code",
   "execution_count": 3,
   "id": "e7fb82f3",
   "metadata": {},
   "outputs": [],
   "source": [
    "# Import libraries\n",
    "import gradio as gr"
   ]
  },
  {
   "cell_type": "code",
   "execution_count": 5,
   "id": "19c55a43",
   "metadata": {},
   "outputs": [
    {
     "name": "stdout",
     "output_type": "stream",
     "text": [
      "Running locally at: http://127.0.0.1:7860/\n",
      "To create a public link, set `share=True` in `launch()`.\n",
      "Interface loading below...\n"
     ]
    },
    {
     "data": {
      "text/html": [
       "\n",
       "        <iframe\n",
       "            width=\"900\"\n",
       "            height=\"500\"\n",
       "            src=\"http://127.0.0.1:7860/\"\n",
       "            frameborder=\"0\"\n",
       "            allowfullscreen\n",
       "        ></iframe>\n",
       "        "
      ],
      "text/plain": [
       "<IPython.lib.display.IFrame at 0x7f8874b29f40>"
      ]
     },
     "metadata": {},
     "output_type": "display_data"
    },
    {
     "data": {
      "text/plain": [
       "(<Flask 'gradio.networking'>, 'http://127.0.0.1:7860/', None)"
      ]
     },
     "execution_count": 5,
     "metadata": {},
     "output_type": "execute_result"
    }
   ],
   "source": [
    "def greet(name):\n",
    "    return \"Hello \" + name + \"!\"\n",
    "\n",
    "iface = gr.Interface(fn=greet, inputs=\"text\", outputs=\"text\")\n",
    "iface.launch()"
   ]
  },
  {
   "cell_type": "markdown",
   "id": "18a5f633",
   "metadata": {},
   "source": [
    "### Image Classification"
   ]
  },
  {
   "cell_type": "code",
   "execution_count": 6,
   "id": "18637501",
   "metadata": {},
   "outputs": [
    {
     "name": "stdout",
     "output_type": "stream",
     "text": [
      "Downloading data from https://storage.googleapis.com/tensorflow/keras-applications/inception_v3/inception_v3_weights_tf_dim_ordering_tf_kernels.h5\n",
      "96116736/96112376 [==============================] - 129s 1us/step\n",
      "Running locally at: http://127.0.0.1:7861/\n",
      "To create a public link, set `share=True` in `launch()`.\n",
      "Interface loading below...\n"
     ]
    },
    {
     "data": {
      "text/html": [
       "\n",
       "        <iframe\n",
       "            width=\"900\"\n",
       "            height=\"500\"\n",
       "            src=\"http://127.0.0.1:7861/\"\n",
       "            frameborder=\"0\"\n",
       "            allowfullscreen\n",
       "        ></iframe>\n",
       "        "
      ],
      "text/plain": [
       "<IPython.lib.display.IFrame at 0x7f8867ac3f70>"
      ]
     },
     "metadata": {},
     "output_type": "display_data"
    },
    {
     "data": {
      "text/plain": [
       "(<Flask 'gradio.networking'>, 'http://127.0.0.1:7861/', None)"
      ]
     },
     "execution_count": 6,
     "metadata": {},
     "output_type": "execute_result"
    }
   ],
   "source": [
    "import gradio as gr\n",
    "import tensorflow as tf\n",
    "import numpy as np\n",
    "import requests\n",
    "\n",
    "inception_net = tf.keras.applications.InceptionV3() # load the model\n",
    "\n",
    "# Download human-readable labels for ImageNet.\n",
    "response = requests.get(\"https://git.io/JJkYN\")\n",
    "labels = response.text.split(\"\\n\")\n",
    "\n",
    "def classify_image(inp):\n",
    "  inp = inp.reshape((-1, 299, 299, 3))\n",
    "  inp = tf.keras.applications.inception_v3.preprocess_input(inp)\n",
    "  prediction = inception_net.predict(inp).flatten()\n",
    "  return {labels[i]: float(prediction[i]) for i in range(1000)}\n",
    "\n",
    "image = gr.inputs.Image(shape=(299, 299))\n",
    "label = gr.outputs.Label(num_top_classes=3)\n",
    "\n",
    "gr.Interface(fn=classify_image, inputs=image, outputs=label, capture_session=True).launch()"
   ]
  },
  {
   "cell_type": "code",
   "execution_count": null,
   "id": "6e2f08ab",
   "metadata": {},
   "outputs": [],
   "source": []
  }
 ],
 "metadata": {
  "kernelspec": {
   "display_name": "Python 3",
   "language": "python",
   "name": "python3"
  },
  "language_info": {
   "codemirror_mode": {
    "name": "ipython",
    "version": 3
   },
   "file_extension": ".py",
   "mimetype": "text/x-python",
   "name": "python",
   "nbconvert_exporter": "python",
   "pygments_lexer": "ipython3",
   "version": "3.8.8"
  }
 },
 "nbformat": 4,
 "nbformat_minor": 5
}
